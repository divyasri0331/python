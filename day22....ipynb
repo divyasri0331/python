{
 "cells": [
  {
   "cell_type": "code",
   "execution_count": 1,
   "id": "46bccb2c-7469-41f9-b681-706220e80f61",
   "metadata": {},
   "outputs": [],
   "source": [
    "import pandas as pd\n",
    "import matplotlib.pyplot as plt\n",
    "import seaborn as sns\n",
    "import statsmodels.formula.api as smf\n",
    "import numpy as np"
   ]
  },
  {
   "cell_type": "code",
   "execution_count": 2,
   "id": "9cacfd9c-0aa8-4bf7-ae86-7468911785b7",
   "metadata": {},
   "outputs": [
    {
     "data": {
      "text/html": [
       "<div>\n",
       "<style scoped>\n",
       "    .dataframe tbody tr th:only-of-type {\n",
       "        vertical-align: middle;\n",
       "    }\n",
       "\n",
       "    .dataframe tbody tr th {\n",
       "        vertical-align: top;\n",
       "    }\n",
       "\n",
       "    .dataframe thead th {\n",
       "        text-align: right;\n",
       "    }\n",
       "</style>\n",
       "<table border=\"1\" class=\"dataframe\">\n",
       "  <thead>\n",
       "    <tr style=\"text-align: right;\">\n",
       "      <th></th>\n",
       "      <th>YEAR</th>\n",
       "      <th>Make</th>\n",
       "      <th>Model</th>\n",
       "      <th>Size</th>\n",
       "      <th>(kW)</th>\n",
       "      <th>Unnamed: 5</th>\n",
       "      <th>TYPE</th>\n",
       "      <th>CITY (kWh/100 km)</th>\n",
       "      <th>HWY (kWh/100 km)</th>\n",
       "      <th>COMB (kWh/100 km)</th>\n",
       "      <th>CITY (Le/100 km)</th>\n",
       "      <th>HWY (Le/100 km)</th>\n",
       "      <th>COMB (Le/100 km)</th>\n",
       "      <th>(g/km)</th>\n",
       "      <th>RATING</th>\n",
       "      <th>(km)</th>\n",
       "      <th>TIME (h)</th>\n",
       "    </tr>\n",
       "  </thead>\n",
       "  <tbody>\n",
       "    <tr>\n",
       "      <th>0</th>\n",
       "      <td>2012</td>\n",
       "      <td>MITSUBISHI</td>\n",
       "      <td>i-MiEV</td>\n",
       "      <td>SUBCOMPACT</td>\n",
       "      <td>49</td>\n",
       "      <td>A1</td>\n",
       "      <td>B</td>\n",
       "      <td>16.9</td>\n",
       "      <td>21.4</td>\n",
       "      <td>18.7</td>\n",
       "      <td>1.9</td>\n",
       "      <td>2.4</td>\n",
       "      <td>2.1</td>\n",
       "      <td>0</td>\n",
       "      <td>NaN</td>\n",
       "      <td>100</td>\n",
       "      <td>7</td>\n",
       "    </tr>\n",
       "    <tr>\n",
       "      <th>1</th>\n",
       "      <td>2012</td>\n",
       "      <td>NISSAN</td>\n",
       "      <td>LEAF</td>\n",
       "      <td>MID-SIZE</td>\n",
       "      <td>80</td>\n",
       "      <td>A1</td>\n",
       "      <td>B</td>\n",
       "      <td>19.3</td>\n",
       "      <td>23.0</td>\n",
       "      <td>21.1</td>\n",
       "      <td>2.2</td>\n",
       "      <td>2.6</td>\n",
       "      <td>2.4</td>\n",
       "      <td>0</td>\n",
       "      <td>NaN</td>\n",
       "      <td>117</td>\n",
       "      <td>7</td>\n",
       "    </tr>\n",
       "    <tr>\n",
       "      <th>2</th>\n",
       "      <td>2013</td>\n",
       "      <td>FORD</td>\n",
       "      <td>FOCUS ELECTRIC</td>\n",
       "      <td>COMPACT</td>\n",
       "      <td>107</td>\n",
       "      <td>A1</td>\n",
       "      <td>B</td>\n",
       "      <td>19.0</td>\n",
       "      <td>21.1</td>\n",
       "      <td>20.0</td>\n",
       "      <td>2.1</td>\n",
       "      <td>2.4</td>\n",
       "      <td>2.2</td>\n",
       "      <td>0</td>\n",
       "      <td>NaN</td>\n",
       "      <td>122</td>\n",
       "      <td>4</td>\n",
       "    </tr>\n",
       "    <tr>\n",
       "      <th>3</th>\n",
       "      <td>2013</td>\n",
       "      <td>MITSUBISHI</td>\n",
       "      <td>i-MiEV</td>\n",
       "      <td>SUBCOMPACT</td>\n",
       "      <td>49</td>\n",
       "      <td>A1</td>\n",
       "      <td>B</td>\n",
       "      <td>16.9</td>\n",
       "      <td>21.4</td>\n",
       "      <td>18.7</td>\n",
       "      <td>1.9</td>\n",
       "      <td>2.4</td>\n",
       "      <td>2.1</td>\n",
       "      <td>0</td>\n",
       "      <td>NaN</td>\n",
       "      <td>100</td>\n",
       "      <td>7</td>\n",
       "    </tr>\n",
       "    <tr>\n",
       "      <th>4</th>\n",
       "      <td>2013</td>\n",
       "      <td>NISSAN</td>\n",
       "      <td>LEAF</td>\n",
       "      <td>MID-SIZE</td>\n",
       "      <td>80</td>\n",
       "      <td>A1</td>\n",
       "      <td>B</td>\n",
       "      <td>19.3</td>\n",
       "      <td>23.0</td>\n",
       "      <td>21.1</td>\n",
       "      <td>2.2</td>\n",
       "      <td>2.6</td>\n",
       "      <td>2.4</td>\n",
       "      <td>0</td>\n",
       "      <td>NaN</td>\n",
       "      <td>117</td>\n",
       "      <td>7</td>\n",
       "    </tr>\n",
       "  </tbody>\n",
       "</table>\n",
       "</div>"
      ],
      "text/plain": [
       "   YEAR        Make           Model        Size  (kW) Unnamed: 5 TYPE  \\\n",
       "0  2012  MITSUBISHI          i-MiEV  SUBCOMPACT    49         A1    B   \n",
       "1  2012      NISSAN            LEAF    MID-SIZE    80         A1    B   \n",
       "2  2013        FORD  FOCUS ELECTRIC     COMPACT   107         A1    B   \n",
       "3  2013  MITSUBISHI          i-MiEV  SUBCOMPACT    49         A1    B   \n",
       "4  2013      NISSAN            LEAF    MID-SIZE    80         A1    B   \n",
       "\n",
       "   CITY (kWh/100 km)  HWY (kWh/100 km)  COMB (kWh/100 km)  CITY (Le/100 km)  \\\n",
       "0               16.9              21.4               18.7               1.9   \n",
       "1               19.3              23.0               21.1               2.2   \n",
       "2               19.0              21.1               20.0               2.1   \n",
       "3               16.9              21.4               18.7               1.9   \n",
       "4               19.3              23.0               21.1               2.2   \n",
       "\n",
       "   HWY (Le/100 km)  COMB (Le/100 km)  (g/km)  RATING  (km)  TIME (h)  \n",
       "0              2.4               2.1       0     NaN   100         7  \n",
       "1              2.6               2.4       0     NaN   117         7  \n",
       "2              2.4               2.2       0     NaN   122         4  \n",
       "3              2.4               2.1       0     NaN   100         7  \n",
       "4              2.6               2.4       0     NaN   117         7  "
      ]
     },
     "execution_count": 2,
     "metadata": {},
     "output_type": "execute_result"
    }
   ],
   "source": [
    "cars = pd.read_csv(r\"C:\\Users\\DIVYA\\Downloads\\cars.csv\")\n",
    "cars.head()"
   ]
  },
  {
   "cell_type": "code",
   "execution_count": 3,
   "id": "212792b6-8b7b-4934-9351-68c2be21ebe1",
   "metadata": {},
   "outputs": [
    {
     "name": "stdout",
     "output_type": "stream",
     "text": [
      "<class 'pandas.core.frame.DataFrame'>\n",
      "RangeIndex: 53 entries, 0 to 52\n",
      "Data columns (total 17 columns):\n",
      " #   Column             Non-Null Count  Dtype  \n",
      "---  ------             --------------  -----  \n",
      " 0   YEAR               53 non-null     int64  \n",
      " 1   Make               53 non-null     object \n",
      " 2   Model              53 non-null     object \n",
      " 3   Size               53 non-null     object \n",
      " 4   (kW)               53 non-null     int64  \n",
      " 5   Unnamed: 5         53 non-null     object \n",
      " 6   TYPE               53 non-null     object \n",
      " 7   CITY (kWh/100 km)  53 non-null     float64\n",
      " 8   HWY (kWh/100 km)   53 non-null     float64\n",
      " 9   COMB (kWh/100 km)  53 non-null     float64\n",
      " 10  CITY (Le/100 km)   53 non-null     float64\n",
      " 11  HWY (Le/100 km)    53 non-null     float64\n",
      " 12  COMB (Le/100 km)   53 non-null     float64\n",
      " 13  (g/km)             53 non-null     int64  \n",
      " 14  RATING             19 non-null     float64\n",
      " 15  (km)               53 non-null     int64  \n",
      " 16  TIME (h)           53 non-null     int64  \n",
      "dtypes: float64(7), int64(5), object(5)\n",
      "memory usage: 7.2+ KB\n"
     ]
    }
   ],
   "source": [
    "cars.info()"
   ]
  },
  {
   "cell_type": "code",
   "execution_count": 4,
   "id": "870fcde9-c4e2-4b1b-98b2-73dfc7ee5bff",
   "metadata": {},
   "outputs": [
    {
     "data": {
      "text/plain": [
       "YEAR                  0\n",
       "Make                  0\n",
       "Model                 0\n",
       "Size                  0\n",
       "(kW)                  0\n",
       "Unnamed: 5            0\n",
       "TYPE                  0\n",
       "CITY (kWh/100 km)     0\n",
       "HWY (kWh/100 km)      0\n",
       "COMB (kWh/100 km)     0\n",
       "CITY (Le/100 km)      0\n",
       "HWY (Le/100 km)       0\n",
       "COMB (Le/100 km)      0\n",
       "(g/km)                0\n",
       "RATING               34\n",
       "(km)                  0\n",
       "TIME (h)              0\n",
       "dtype: int64"
      ]
     },
     "execution_count": 4,
     "metadata": {},
     "output_type": "execute_result"
    }
   ],
   "source": [
    "cars.isnull().sum()"
   ]
  },
  {
   "cell_type": "code",
   "execution_count": 5,
   "id": "ac16e992-c59a-47d1-9a24-3b3d01c27735",
   "metadata": {},
   "outputs": [
    {
     "data": {
      "text/plain": [
       "<bound method DataFrame.duplicated of     YEAR        Make                            Model                   Size  \\\n",
       "0   2012  MITSUBISHI                           i-MiEV             SUBCOMPACT   \n",
       "1   2012      NISSAN                             LEAF               MID-SIZE   \n",
       "2   2013        FORD                   FOCUS ELECTRIC                COMPACT   \n",
       "3   2013  MITSUBISHI                           i-MiEV             SUBCOMPACT   \n",
       "4   2013      NISSAN                             LEAF               MID-SIZE   \n",
       "5   2013       SMART  FORTWO ELECTRIC DRIVE CABRIOLET             TWO-SEATER   \n",
       "6   2013       SMART      FORTWO ELECTRIC DRIVE COUPE             TWO-SEATER   \n",
       "7   2013       TESLA         MODEL S (40 kWh battery)              FULL-SIZE   \n",
       "8   2013       TESLA         MODEL S (60 kWh battery)              FULL-SIZE   \n",
       "9   2013       TESLA         MODEL S (85 kWh battery)              FULL-SIZE   \n",
       "10  2013       TESLA              MODEL S PERFORMANCE              FULL-SIZE   \n",
       "11  2014   CHEVROLET                         SPARK EV             SUBCOMPACT   \n",
       "12  2014        FORD                   FOCUS ELECTRIC                COMPACT   \n",
       "13  2014  MITSUBISHI                           i-MiEV             SUBCOMPACT   \n",
       "14  2014      NISSAN                             LEAF               MID-SIZE   \n",
       "15  2014       SMART  FORTWO ELECTRIC DRIVE CABRIOLET             TWO-SEATER   \n",
       "16  2014       SMART      FORTWO ELECTRIC DRIVE COUPE             TWO-SEATER   \n",
       "17  2014       TESLA         MODEL S (60 kWh battery)              FULL-SIZE   \n",
       "18  2014       TESLA         MODEL S (85 kWh battery)              FULL-SIZE   \n",
       "19  2014       TESLA              MODEL S PERFORMANCE              FULL-SIZE   \n",
       "20  2015         BMW                               i3             SUBCOMPACT   \n",
       "21  2015   CHEVROLET                         SPARK EV             SUBCOMPACT   \n",
       "22  2015        FORD                   FOCUS ELECTRIC                COMPACT   \n",
       "23  2015         KIA                          SOUL EV  STATION WAGON - SMALL   \n",
       "24  2015  MITSUBISHI                           i-MiEV             SUBCOMPACT   \n",
       "25  2015      NISSAN                             LEAF               MID-SIZE   \n",
       "26  2015       SMART  FORTWO ELECTRIC DRIVE CABRIOLET             TWO-SEATER   \n",
       "27  2015       SMART      FORTWO ELECTRIC DRIVE COUPE             TWO-SEATER   \n",
       "28  2015       TESLA         MODEL S (60 kWh battery)              FULL-SIZE   \n",
       "29  2015       TESLA         MODEL S (70 kWh battery)              FULL-SIZE   \n",
       "30  2015       TESLA      MODEL S (85/90 kWh battery)              FULL-SIZE   \n",
       "31  2015       TESLA                      MODEL S 70D              FULL-SIZE   \n",
       "32  2015       TESLA                  MODEL S 85D/90D              FULL-SIZE   \n",
       "33  2015       TESLA                MODEL S P85D/P90D              FULL-SIZE   \n",
       "34  2016         BMW                               i3             SUBCOMPACT   \n",
       "35  2016   CHEVROLET                         SPARK EV             SUBCOMPACT   \n",
       "36  2016        FORD                   FOCUS ELECTRIC                COMPACT   \n",
       "37  2016         KIA                          SOUL EV  STATION WAGON - SMALL   \n",
       "38  2016  MITSUBISHI                           i-MiEV             SUBCOMPACT   \n",
       "39  2016      NISSAN            LEAF (24 kWh battery)               MID-SIZE   \n",
       "40  2016      NISSAN            LEAF (30 kWh battery)               MID-SIZE   \n",
       "41  2016       SMART  FORTWO ELECTRIC DRIVE CABRIOLET             TWO-SEATER   \n",
       "42  2016       SMART      FORTWO ELECTRIC DRIVE COUPE             TWO-SEATER   \n",
       "43  2016       TESLA         MODEL S (60 kWh battery)              FULL-SIZE   \n",
       "44  2016       TESLA         MODEL S (70 kWh battery)              FULL-SIZE   \n",
       "45  2016       TESLA      MODEL S (85/90 kWh battery)              FULL-SIZE   \n",
       "46  2016       TESLA                      MODEL S 70D              FULL-SIZE   \n",
       "47  2016       TESLA                  MODEL S 85D/90D              FULL-SIZE   \n",
       "48  2016       TESLA            MODEL S 90D (Refresh)              FULL-SIZE   \n",
       "49  2016       TESLA                MODEL S P85D/P90D              FULL-SIZE   \n",
       "50  2016       TESLA           MODEL S P90D (Refresh)              FULL-SIZE   \n",
       "51  2016       TESLA                      MODEL X 90D         SUV - STANDARD   \n",
       "52  2016       TESLA                     MODEL X P90D         SUV - STANDARD   \n",
       "\n",
       "    (kW) Unnamed: 5 TYPE  CITY (kWh/100 km)  HWY (kWh/100 km)  \\\n",
       "0     49         A1    B               16.9              21.4   \n",
       "1     80         A1    B               19.3              23.0   \n",
       "2    107         A1    B               19.0              21.1   \n",
       "3     49         A1    B               16.9              21.4   \n",
       "4     80         A1    B               19.3              23.0   \n",
       "5     35         A1    B               17.2              22.5   \n",
       "6     35         A1    B               17.2              22.5   \n",
       "7    270         A1    B               22.4              21.9   \n",
       "8    270         A1    B               22.2              21.7   \n",
       "9    270         A1    B               23.8              23.2   \n",
       "10   310         A1    B               23.9              23.2   \n",
       "11   104         A1    B               16.0              19.6   \n",
       "12   107         A1    B               19.0              21.1   \n",
       "13    49         A1    B               16.9              21.4   \n",
       "14    80         A1    B               16.5              20.8   \n",
       "15    35         A1    B               17.2              22.5   \n",
       "16    35         A1    B               17.2              22.5   \n",
       "17   225         A1    B               22.2              21.7   \n",
       "18   270         A1    B               23.8              23.2   \n",
       "19   310         A1    B               23.9              23.2   \n",
       "20   125         A1    B               15.2              18.8   \n",
       "21   104         A1    B               16.0              19.6   \n",
       "22   107         A1    B               19.0              21.1   \n",
       "23    81         A1    B               17.5              22.7   \n",
       "24    49         A1    B               16.9              21.4   \n",
       "25    80         A1    B               16.5              20.8   \n",
       "26    35         A1    B               17.2              22.5   \n",
       "27    35         A1    B               17.2              22.5   \n",
       "28   283         A1    B               22.2              21.7   \n",
       "29   283         A1    B               23.8              23.2   \n",
       "30   283         A1    B               23.8              23.2   \n",
       "31   280         A1    B               20.8              20.6   \n",
       "32   280         A1    B               22.0              19.8   \n",
       "33   515         A1    B               23.4              21.5   \n",
       "34   125         A1    B               15.2              18.8   \n",
       "35   104         A1    B               16.0              19.6   \n",
       "36   107         A1    B               19.0              21.1   \n",
       "37    81         A1    B               17.5              22.7   \n",
       "38    49         A1    B               16.9              21.4   \n",
       "39    80         A1    B               16.5              20.8   \n",
       "40    80         A1    B               17.0              20.7   \n",
       "41    35         A1    B               17.2              22.5   \n",
       "42    35         A1    B               17.2              22.5   \n",
       "43   283         A1    B               22.2              21.7   \n",
       "44   283         A1    B               23.8              23.2   \n",
       "45   283         A1    B               23.8              23.2   \n",
       "46   386         A1    B               20.8              20.6   \n",
       "47   386         A1    B               22.0              19.8   \n",
       "48   386         A1    B               20.8              19.7   \n",
       "49   568         A1    B               23.4              21.5   \n",
       "50   568         A1    B               22.9              21.0   \n",
       "51   386         A1    B               23.2              22.2   \n",
       "52   568         A1    B               23.6              23.3   \n",
       "\n",
       "    COMB (kWh/100 km)  CITY (Le/100 km)  HWY (Le/100 km)  COMB (Le/100 km)  \\\n",
       "0                18.7               1.9              2.4               2.1   \n",
       "1                21.1               2.2              2.6               2.4   \n",
       "2                20.0               2.1              2.4               2.2   \n",
       "3                18.7               1.9              2.4               2.1   \n",
       "4                21.1               2.2              2.6               2.4   \n",
       "5                19.6               1.9              2.5               2.2   \n",
       "6                19.6               1.9              2.5               2.2   \n",
       "7                22.2               2.5              2.5               2.5   \n",
       "8                21.9               2.5              2.4               2.5   \n",
       "9                23.6               2.7              2.6               2.6   \n",
       "10               23.6               2.7              2.6               2.6   \n",
       "11               17.8               1.8              2.2               2.0   \n",
       "12               20.0               2.1              2.4               2.2   \n",
       "13               18.7               1.9              2.4               2.1   \n",
       "14               18.4               1.9              2.3               2.1   \n",
       "15               19.6               1.9              2.5               2.2   \n",
       "16               19.6               1.9              2.5               2.2   \n",
       "17               21.9               2.5              2.4               2.5   \n",
       "18               23.6               2.7              2.6               2.6   \n",
       "19               23.6               2.7              2.6               2.6   \n",
       "20               16.8               1.7              2.1               1.9   \n",
       "21               17.8               1.8              2.2               2.0   \n",
       "22               20.0               2.1              2.4               2.2   \n",
       "23               19.9               2.0              2.6               2.2   \n",
       "24               18.7               1.9              2.4               2.1   \n",
       "25               18.4               1.9              2.3               2.1   \n",
       "26               19.6               1.9              2.5               2.2   \n",
       "27               19.6               1.9              2.5               2.2   \n",
       "28               21.9               2.5              2.4               2.5   \n",
       "29               23.6               2.7              2.6               2.6   \n",
       "30               23.6               2.7              2.6               2.6   \n",
       "31               20.7               2.3              2.3               2.3   \n",
       "32               21.0               2.5              2.2               2.4   \n",
       "33               22.5               2.6              2.4               2.5   \n",
       "34               16.8               1.7              2.1               1.9   \n",
       "35               17.8               1.8              2.2               2.0   \n",
       "36               20.0               2.1              2.4               2.2   \n",
       "37               19.9               2.0              2.6               2.2   \n",
       "38               18.7               1.9              2.4               2.1   \n",
       "39               18.4               1.9              2.3               2.1   \n",
       "40               18.6               1.9              2.3               2.1   \n",
       "41               19.6               1.9              2.5               2.2   \n",
       "42               19.6               1.9              2.5               2.2   \n",
       "43               21.9               2.5              2.4               2.5   \n",
       "44               23.6               2.7              2.6               2.6   \n",
       "45               23.6               2.7              2.6               2.6   \n",
       "46               20.7               2.3              2.3               2.3   \n",
       "47               21.0               2.5              2.2               2.4   \n",
       "48               20.3               2.3              2.2               2.3   \n",
       "49               22.5               2.6              2.4               2.5   \n",
       "50               22.1               2.6              2.4               2.5   \n",
       "51               22.7               2.6              2.5               2.6   \n",
       "52               23.5               2.7              2.6               2.6   \n",
       "\n",
       "    (g/km)  RATING  (km)  TIME (h)  \n",
       "0        0     NaN   100         7  \n",
       "1        0     NaN   117         7  \n",
       "2        0     NaN   122         4  \n",
       "3        0     NaN   100         7  \n",
       "4        0     NaN   117         7  \n",
       "5        0     NaN   109         8  \n",
       "6        0     NaN   109         8  \n",
       "7        0     NaN   224         6  \n",
       "8        0     NaN   335        10  \n",
       "9        0     NaN   426        12  \n",
       "10       0     NaN   426        12  \n",
       "11       0     NaN   131         7  \n",
       "12       0     NaN   122         4  \n",
       "13       0     NaN   100         7  \n",
       "14       0     NaN   135         5  \n",
       "15       0     NaN   109         8  \n",
       "16       0     NaN   109         8  \n",
       "17       0     NaN   335        10  \n",
       "18       0     NaN   426        12  \n",
       "19       0     NaN   426        12  \n",
       "20       0     NaN   130         4  \n",
       "21       0     NaN   131         7  \n",
       "22       0     NaN   122         4  \n",
       "23       0     NaN   149         4  \n",
       "24       0     NaN   100         7  \n",
       "25       0     NaN   135         5  \n",
       "26       0     NaN   109         8  \n",
       "27       0     NaN   109         8  \n",
       "28       0     NaN   335        10  \n",
       "29       0     NaN   377        12  \n",
       "30       0     NaN   426        12  \n",
       "31       0     NaN   386        12  \n",
       "32       0     NaN   435        12  \n",
       "33       0     NaN   407        12  \n",
       "34       0    10.0   130         4  \n",
       "35       0    10.0   131         7  \n",
       "36       0    10.0   122         4  \n",
       "37       0    10.0   149         4  \n",
       "38       0    10.0   100         7  \n",
       "39       0    10.0   135         5  \n",
       "40       0    10.0   172         6  \n",
       "41       0    10.0   109         8  \n",
       "42       0    10.0   109         8  \n",
       "43       0    10.0   335        10  \n",
       "44       0    10.0   377        12  \n",
       "45       0    10.0   426        12  \n",
       "46       0    10.0   386        12  \n",
       "47       0    10.0   435        12  \n",
       "48       0    10.0   473        12  \n",
       "49       0    10.0   407        12  \n",
       "50       0    10.0   435        12  \n",
       "51       0    10.0   414        12  \n",
       "52       0    10.0   402        12  >"
      ]
     },
     "execution_count": 5,
     "metadata": {},
     "output_type": "execute_result"
    }
   ],
   "source": [
    "cars.duplicated"
   ]
  },
  {
   "cell_type": "code",
   "execution_count": 6,
   "id": "94a337d8-33b3-4132-ae1c-68140a9e6c59",
   "metadata": {},
   "outputs": [
    {
     "data": {
      "text/plain": [
       "(53, 17)"
      ]
     },
     "execution_count": 6,
     "metadata": {},
     "output_type": "execute_result"
    }
   ],
   "source": [
    "cars.shape"
   ]
  },
  {
   "cell_type": "code",
   "execution_count": 7,
   "id": "21d0c883-43cc-4844-b6b8-ee437197b985",
   "metadata": {},
   "outputs": [
    {
     "data": {
      "text/plain": [
       "<Axes: xlabel='YEAR', ylabel='Density'>"
      ]
     },
     "execution_count": 7,
     "metadata": {},
     "output_type": "execute_result"
    },
    {
     "data": {
      "image/png": "[encoded data removed]",
      "text/plain": [
       "<Figure size 640x480 with 1 Axes>"
      ]
     },
     "metadata": {},
     "output_type": "display_data"
    }
   ],
   "source": [
    "import warnings\n",
    "warnings.filterwarnings('ignore')\n",
    "sns.distplot(cars['YEAR'])"
   ]
  },
  {
   "cell_type": "code",
   "execution_count": 8,
   "id": "06d0756e-cb6d-4e17-aa10-1ada2af2fcef",
   "metadata": {
    "scrolled": true
   },
   "outputs": [
    {
     "data": {
      "text/plain": [
       "<Axes: xlabel='YEAR', ylabel='TYPE'>"
      ]
     },
     "execution_count": 8,
     "metadata": {},
     "output_type": "execute_result"
    },
    {
     "data": {
      "image/png": "[encoded data removed]",
      "text/plain": [
       "<Figure size 640x480 with 1 Axes>"
      ]
     },
     "metadata": {},
     "output_type": "display_data"
    }
   ],
   "source": [
    "sns.scatterplot(x=cars['YEAR'],y=cars['TYPE'])"
   ]
  },
  {
   "cell_type": "code",
   "execution_count": 20,
   "id": "5fc05ac1-2dfd-4448-9c66-6b08bfd58a25",
   "metadata": {},
   "outputs": [
    {
     "data": {
      "text/plain": [
       "<Axes: xlabel='YEAR', ylabel='Make'>"
      ]
     },
     "execution_count": 20,
     "metadata": {},
     "output_type": "execute_result"
    },
    {
     "data": {
      "image/png": "[encoded data removed]",
      "text/plain": [
       "<Figure size 640x480 with 1 Axes>"
      ]
     },
     "metadata": {},
     "output_type": "display_data"
    }
   ],
   "source": [
    "sns.scatterplot(x=cars['YEAR'],y=cars['Make'])"
   ]
  },
  {
   "cell_type": "markdown",
   "id": "2e623e5b-6e54-4903-80a6-5e9bc6468356",
   "metadata": {},
   "source": [
    "\n",
    "Correlation Matrix"
   ]
  },
  {
   "cell_type": "code",
   "execution_count": 22,
   "id": "8da2ddc5-1b64-4540-b376-cd38b90a24ca",
   "metadata": {},
   "outputs": [
    {
     "ename": "ValueError",
     "evalue": "could not convert string to float: 'MITSUBISHI'",
     "output_type": "error",
     "traceback": [
      "\u001b[1;31m---------------------------------------------------------------------------\u001b[0m",
      "\u001b[1;31mValueError\u001b[0m                                Traceback (most recent call last)",
      "Cell \u001b[1;32mIn[22], line 1\u001b[0m\n\u001b[1;32m----> 1\u001b[0m cars\u001b[38;5;241m.\u001b[39mcorr()\n",
      "File \u001b[1;32m~\\anaconda3\\Lib\\site-packages\\pandas\\core\\frame.py:11049\u001b[0m, in \u001b[0;36mDataFrame.corr\u001b[1;34m(self, method, min_periods, numeric_only)\u001b[0m\n\u001b[0;32m  11047\u001b[0m cols \u001b[38;5;241m=\u001b[39m data\u001b[38;5;241m.\u001b[39mcolumns\n\u001b[0;32m  11048\u001b[0m idx \u001b[38;5;241m=\u001b[39m cols\u001b[38;5;241m.\u001b[39mcopy()\n\u001b[1;32m> 11049\u001b[0m mat \u001b[38;5;241m=\u001b[39m data\u001b[38;5;241m.\u001b[39mto_numpy(dtype\u001b[38;5;241m=\u001b[39m\u001b[38;5;28mfloat\u001b[39m, na_value\u001b[38;5;241m=\u001b[39mnp\u001b[38;5;241m.\u001b[39mnan, copy\u001b[38;5;241m=\u001b[39m\u001b[38;5;28;01mFalse\u001b[39;00m)\n\u001b[0;32m  11051\u001b[0m \u001b[38;5;28;01mif\u001b[39;00m method \u001b[38;5;241m==\u001b[39m \u001b[38;5;124m\"\u001b[39m\u001b[38;5;124mpearson\u001b[39m\u001b[38;5;124m\"\u001b[39m:\n\u001b[0;32m  11052\u001b[0m     correl \u001b[38;5;241m=\u001b[39m libalgos\u001b[38;5;241m.\u001b[39mnancorr(mat, minp\u001b[38;5;241m=\u001b[39mmin_periods)\n",
      "File \u001b[1;32m~\\anaconda3\\Lib\\site-packages\\pandas\\core\\frame.py:1993\u001b[0m, in \u001b[0;36mDataFrame.to_numpy\u001b[1;34m(self, dtype, copy, na_value)\u001b[0m\n\u001b[0;32m   1991\u001b[0m \u001b[38;5;28;01mif\u001b[39;00m dtype \u001b[38;5;129;01mis\u001b[39;00m \u001b[38;5;129;01mnot\u001b[39;00m \u001b[38;5;28;01mNone\u001b[39;00m:\n\u001b[0;32m   1992\u001b[0m     dtype \u001b[38;5;241m=\u001b[39m np\u001b[38;5;241m.\u001b[39mdtype(dtype)\n\u001b[1;32m-> 1993\u001b[0m result \u001b[38;5;241m=\u001b[39m \u001b[38;5;28mself\u001b[39m\u001b[38;5;241m.\u001b[39m_mgr\u001b[38;5;241m.\u001b[39mas_array(dtype\u001b[38;5;241m=\u001b[39mdtype, copy\u001b[38;5;241m=\u001b[39mcopy, na_value\u001b[38;5;241m=\u001b[39mna_value)\n\u001b[0;32m   1994\u001b[0m \u001b[38;5;28;01mif\u001b[39;00m result\u001b[38;5;241m.\u001b[39mdtype \u001b[38;5;129;01mis\u001b[39;00m \u001b[38;5;129;01mnot\u001b[39;00m dtype:\n\u001b[0;32m   1995\u001b[0m     result \u001b[38;5;241m=\u001b[39m np\u001b[38;5;241m.\u001b[39masarray(result, dtype\u001b[38;5;241m=\u001b[39mdtype)\n",
      "File \u001b[1;32m~\\anaconda3\\Lib\\site-packages\\pandas\\core\\internals\\managers.py:1694\u001b[0m, in \u001b[0;36mBlockManager.as_array\u001b[1;34m(self, dtype, copy, na_value)\u001b[0m\n\u001b[0;32m   1692\u001b[0m         arr\u001b[38;5;241m.\u001b[39mflags\u001b[38;5;241m.\u001b[39mwriteable \u001b[38;5;241m=\u001b[39m \u001b[38;5;28;01mFalse\u001b[39;00m\n\u001b[0;32m   1693\u001b[0m \u001b[38;5;28;01melse\u001b[39;00m:\n\u001b[1;32m-> 1694\u001b[0m     arr \u001b[38;5;241m=\u001b[39m \u001b[38;5;28mself\u001b[39m\u001b[38;5;241m.\u001b[39m_interleave(dtype\u001b[38;5;241m=\u001b[39mdtype, na_value\u001b[38;5;241m=\u001b[39mna_value)\n\u001b[0;32m   1695\u001b[0m     \u001b[38;5;66;03m# The underlying data was copied within _interleave, so no need\u001b[39;00m\n\u001b[0;32m   1696\u001b[0m     \u001b[38;5;66;03m# to further copy if copy=True or setting na_value\u001b[39;00m\n\u001b[0;32m   1698\u001b[0m \u001b[38;5;28;01mif\u001b[39;00m na_value \u001b[38;5;129;01mis\u001b[39;00m lib\u001b[38;5;241m.\u001b[39mno_default:\n",
      "File \u001b[1;32m~\\anaconda3\\Lib\\site-packages\\pandas\\core\\internals\\managers.py:1753\u001b[0m, in \u001b[0;36mBlockManager._interleave\u001b[1;34m(self, dtype, na_value)\u001b[0m\n\u001b[0;32m   1751\u001b[0m     \u001b[38;5;28;01melse\u001b[39;00m:\n\u001b[0;32m   1752\u001b[0m         arr \u001b[38;5;241m=\u001b[39m blk\u001b[38;5;241m.\u001b[39mget_values(dtype)\n\u001b[1;32m-> 1753\u001b[0m     result[rl\u001b[38;5;241m.\u001b[39mindexer] \u001b[38;5;241m=\u001b[39m arr\n\u001b[0;32m   1754\u001b[0m     itemmask[rl\u001b[38;5;241m.\u001b[39mindexer] \u001b[38;5;241m=\u001b[39m \u001b[38;5;241m1\u001b[39m\n\u001b[0;32m   1756\u001b[0m \u001b[38;5;28;01mif\u001b[39;00m \u001b[38;5;129;01mnot\u001b[39;00m itemmask\u001b[38;5;241m.\u001b[39mall():\n",
      "\u001b[1;31mValueError\u001b[0m: could not convert string to float: 'MITSUBISHI'"
     ]
    }
   ],
   "source": [
    "cars.corr()"
   ]
  },
  {
   "cell_type": "code",
   "execution_count": null,
   "id": "27b174f4-c486-445c-98ba-5b1a89deb118",
   "metadata": {},
   "outputs": [],
   "source": []
  }
 ],
 "metadata": {
  "kernelspec": {
   "display_name": "Python [conda env:base] *",
   "language": "python",
   "name": "conda-base-py"
  },
  "language_info": {
   "codemirror_mode": {
    "name": "ipython",
    "version": 3
   },
   "file_extension": ".py",
   "mimetype": "text/x-python",
   "name": "python",
   "nbconvert_exporter": "python",
   "pygments_lexer": "ipython3",
   "version": "3.12.7"
  }
 },
 "nbformat": 4,
 "nbformat_minor": 5
}
